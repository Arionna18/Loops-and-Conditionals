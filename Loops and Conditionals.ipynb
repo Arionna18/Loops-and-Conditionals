{
 "cells": [
  {
   "cell_type": "code",
   "execution_count": 16,
   "id": "21c78b9b-356b-48d2-9ff7-5bb9ce4e75f2",
   "metadata": {},
   "outputs": [
    {
     "name": "stdin",
     "output_type": "stream",
     "text": [
      "Enter student's last name: Fellows\n",
      "Enter student's first name: Arionna\n",
      "Enter students GPA: 3.5\n"
     ]
    },
    {
     "name": "stdout",
     "output_type": "stream",
     "text": [
      "Arionna Fellows has made the Dean List.\n"
     ]
    },
    {
     "name": "stdin",
     "output_type": "stream",
     "text": [
      "Enter student's last name: Fletcher\n",
      "Enter student's first name: Ashley\n",
      "Enter students GPA: 3.25\n"
     ]
    },
    {
     "name": "stdout",
     "output_type": "stream",
     "text": [
      "Ashley Fletcher has made Honor Roll.\n"
     ]
    },
    {
     "name": "stdin",
     "output_type": "stream",
     "text": [
      "Enter student's last name: Chew\n",
      "Enter student's first name: Jyair\n",
      "Enter students GPA: 4.0\n"
     ]
    },
    {
     "name": "stdout",
     "output_type": "stream",
     "text": [
      "Jyair Chew has made the Dean List.\n"
     ]
    },
    {
     "name": "stdin",
     "output_type": "stream",
     "text": [
      "Enter student's last name: Gail\n",
      "Enter student's first name: Lisa\n",
      "Enter students GPA: 1.0\n",
      "Enter student's last name: Gail\n",
      "Enter student's first name: Lisa\n",
      "Enter students GPA: 3.26\n"
     ]
    },
    {
     "name": "stdout",
     "output_type": "stream",
     "text": [
      "Lisa Gail has made Honor Roll.\n"
     ]
    },
    {
     "name": "stdin",
     "output_type": "stream",
     "text": [
      "Enter student's last name: ZZZ\n"
     ]
    }
   ],
   "source": [
    "\"\"\"\n",
    "Author:Arionna Fellows\n",
    "Title:Loops and Conditionals\n",
    "The purpose of this code is to get students first and last name and GPA.\n",
    "\"\"\"\n",
    "while True:\n",
    "    l_name = input(\"Enter student's last name:\")\n",
    "    if l_name == 'ZZZ':\n",
    "        break\n",
    "    f_name = input(\"Enter student's first name:\")\n",
    "    gpa = float(input(\"Enter students GPA:\"))\n",
    "    if gpa >= 3.5:\n",
    "        print(f\"{f_name} {l_name} has made the Dean List.\")\n",
    "    elif gpa >= 3.25:\n",
    "        print(f\"{f_name} {l_name} has made Honor Roll.\")"
   ]
  },
  {
   "cell_type": "code",
   "execution_count": null,
   "id": "3a3bc0ed-0a44-4691-b099-d739d7787cd9",
   "metadata": {},
   "outputs": [],
   "source": []
  }
 ],
 "metadata": {
  "kernelspec": {
   "display_name": "Python 3 (ipykernel)",
   "language": "python",
   "name": "python3"
  },
  "language_info": {
   "codemirror_mode": {
    "name": "ipython",
    "version": 3
   },
   "file_extension": ".py",
   "mimetype": "text/x-python",
   "name": "python",
   "nbconvert_exporter": "python",
   "pygments_lexer": "ipython3",
   "version": "3.12.4"
  }
 },
 "nbformat": 4,
 "nbformat_minor": 5
}
